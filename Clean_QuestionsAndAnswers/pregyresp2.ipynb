{
 "cells": [
  {
   "cell_type": "code",
   "execution_count": null,
   "metadata": {},
   "outputs": [],
   "source": [
    "import os\n",
    "\n",
    "print(os.getcwd())"
   ]
  },
  {
   "cell_type": "code",
   "execution_count": null,
   "metadata": {},
   "outputs": [],
   "source": [
    "#Librerías\n",
    "import pandas as pd \n",
    "import numpy as np\n",
    "import seaborn as sb\n",
    "import matplotlib.pyplot as plt\n",
    "%matplotlib inline\n",
    "plt.style.use('seaborn-white')\n",
    "#Archivos internas\n",
    "import sys\n",
    "sys.path.insert(1, r'C:\\Users\\Usuario\\Documents\\Entrega_EDA\\DataProcessing')\n",
    "from Listas import ppetrol\n",
    "from Variables import dicc_country, dicc_country_1, ltW, cdW\n",
    "from Lectura_DataSets import dfAE, dfC, dfP, dfEI, dfGDP, dfNP, dfGDPC"
   ]
  },
  {
   "attachments": {},
   "cell_type": "markdown",
   "metadata": {},
   "source": [
    "### ¿Existe relación entre el consumo de energía y el bienestar económico de un país?"
   ]
  },
  {
   "cell_type": "code",
   "execution_count": null,
   "metadata": {},
   "outputs": [],
   "source": [
    "dfAE.head()"
   ]
  },
  {
   "cell_type": "code",
   "execution_count": null,
   "metadata": {},
   "outputs": [],
   "source": [
    "dfGDP.head()"
   ]
  },
  {
   "cell_type": "code",
   "execution_count": null,
   "metadata": {},
   "outputs": [],
   "source": [
    "dfEI.head()"
   ]
  },
  {
   "cell_type": "code",
   "execution_count": null,
   "metadata": {},
   "outputs": [],
   "source": [
    "dfNP.head()"
   ]
  },
  {
   "cell_type": "code",
   "execution_count": null,
   "metadata": {},
   "outputs": [],
   "source": [
    "dfP.head()\n"
   ]
  },
  {
   "cell_type": "code",
   "execution_count": null,
   "metadata": {},
   "outputs": [],
   "source": [
    "dfC.head()\n"
   ]
  },
  {
   "cell_type": "code",
   "execution_count": null,
   "metadata": {},
   "outputs": [],
   "source": [
    "dfAE.head()"
   ]
  },
  {
   "attachments": {},
   "cell_type": "markdown",
   "metadata": {},
   "source": [
    "### Vamos a probar si la relación entre estas variables.\n",
    "Únicamente para el año 2019"
   ]
  },
  {
   "cell_type": "markdown",
   "metadata": {},
   "source": [
    "2019"
   ]
  },
  {
   "cell_type": "code",
   "execution_count": null,
   "metadata": {},
   "outputs": [],
   "source": [
    "merg1 = dfAE[['Code', '2019']]\n",
    "merg1.rename(columns={'2019': 'Acc_Elect'}, inplace=True)\n",
    "merg2 = dfGDP[['Code', '2019']]\n",
    "merg2.rename(columns={'2019': 'PIB'}, inplace=True)\n",
    "merg3 = dfEI[['Code', '2019']]\n",
    "merg3.rename(columns={'2019': 'Energy_Int'}, inplace=True)\n",
    "merg4 = dfNP[['Code', '2019']]\n",
    "merg4.rename(columns={'2019': 'Population'}, inplace=True)\n",
    "merg5 = dfP[dfP['Source'] == 'Production'][['Code', '2019']].reset_index(drop=True)\n",
    "merg5.rename(columns={'2019': 'Production'}, inplace=True)\n",
    "merg6 = dfC[dfC['Source'] == 'Consumption'][['Code', '2019']].reset_index(drop=True)\n",
    "merg6.rename(columns={'2019': 'Consumption'}, inplace=True)\n",
    "merg7 = dfGDPC[['Code', '2019']]\n",
    "merg7.rename(columns={'2019': 'PIB/pers'}, inplace=True)\n",
    "\n",
    "df2019 = merg1.merge(merg2,on='Code').merge(merg3,on='Code').merge(merg4,on='Code').merge(merg5,on='Code').merge(merg6,on='Code').merge(merg7,on='Code')\n",
    "\n"
   ]
  },
  {
   "cell_type": "code",
   "execution_count": null,
   "metadata": {},
   "outputs": [],
   "source": [
    "df2019.head()"
   ]
  },
  {
   "cell_type": "code",
   "execution_count": null,
   "metadata": {},
   "outputs": [],
   "source": [
    "'''Solo por comprabar que efectivamente el resultado no varía si solo cogemos \n",
    "aquel porcentaje de personas que si tienen acceso a la electricidad'''\n",
    "\n",
    "# def function(x,y,z):\n",
    "#     acc_elec = x / 100\n",
    "#     poblacion = y * acc_elec\n",
    "#     pib_real = z / poblacion\n",
    "#     df2019['pib/pers'] = pib_real\n",
    "\n",
    "# function(df2019['Acc_Elect'],df2019['Population'],df2019['PIB'])"
   ]
  },
  {
   "cell_type": "code",
   "execution_count": null,
   "metadata": {},
   "outputs": [],
   "source": [
    "df2019.head()"
   ]
  },
  {
   "cell_type": "code",
   "execution_count": null,
   "metadata": {},
   "outputs": [],
   "source": [
    "# plot a heatmap with annotation\n",
    "plt.figure(figsize=(8,8))\n",
    "sb.heatmap(df2019.corr(),\n",
    "            vmin=-1,\n",
    "            vmax=1,\n",
    "            cmap=sb.diverging_palette(145, 280, s=85, l=25, n=7),\n",
    "            square=True,\n",
    "            linewidths=.1,\n",
    "            annot=True);\n",
    "\n",
    "plt.savefig('coorelation2019.png', dpi = 300, orientation = 'horizontal')"
   ]
  },
  {
   "cell_type": "code",
   "execution_count": null,
   "metadata": {},
   "outputs": [],
   "source": [
    "merg1 = dfAE[['Code', '2011']]\n",
    "merg1.rename(columns={'2011': 'Acc_Elect'}, inplace=True)\n",
    "merg2 = dfGDP[['Code', '2011']]\n",
    "merg2.rename(columns={'2011': 'PIB'}, inplace=True)\n",
    "merg3 = dfEI[['Code', '2011']]\n",
    "merg3.rename(columns={'2011': 'Energy_Int'}, inplace=True)\n",
    "merg4 = dfNP[['Code', '2011']]\n",
    "merg4.rename(columns={'2011': 'Population'}, inplace=True)\n",
    "merg5 = dfP[dfP['Source'] == 'Production'][['Code', '2011']].reset_index(drop=True)\n",
    "merg5.rename(columns={'2011': 'Production'}, inplace=True)\n",
    "merg6 = dfC[dfC['Source'] == 'Consumption'][['Code', '2011']].reset_index(drop=True)\n",
    "merg6.rename(columns={'2011': 'Consumption'}, inplace=True)\n",
    "merg7 = dfGDPC[['Code', '2011']]\n",
    "merg7.rename(columns={'2011': 'PIB/pers'}, inplace=True)\n",
    "\n",
    "df2011 = merg1.merge(merg2,on='Code').merge(merg3,on='Code').merge(merg4,on='Code').merge(merg5,on='Code').merge(merg6,on='Code').merge(merg7,on='Code')\n",
    "\n"
   ]
  },
  {
   "cell_type": "code",
   "execution_count": null,
   "metadata": {},
   "outputs": [],
   "source": [
    "# plot a heatmap with annotation\n",
    "plt.figure(figsize=(8,8))\n",
    "sb.heatmap(df2011.corr(),\n",
    "            vmin=-1,\n",
    "            vmax=1,\n",
    "            cmap=sb.diverging_palette(145, 280, s=85, l=25, n=7),\n",
    "            square=True,\n",
    "            linewidths=.1,\n",
    "            annot=True);"
   ]
  },
  {
   "cell_type": "code",
   "execution_count": null,
   "metadata": {},
   "outputs": [],
   "source": [
    "merg1 = df_AE[['Code', '1997']]\n",
    "merg1.rename(columns={'1997': 'Acc_Elect'}, inplace=True)\n",
    "merg2 = dfGDP[['Code', '1997']]\n",
    "merg2.rename(columns={'1997': 'PIB'}, inplace=True)\n",
    "merg3 = dfEI[['Code', '1997']]\n",
    "merg3.rename(columns={'1997': 'Energy_Int'}, inplace=True)\n",
    "merg4 = dfNP[['Code', '1997']]\n",
    "merg4.rename(columns={'1997': 'Population'}, inplace=True)\n",
    "merg5 = dfP[dfP['Source'] == 'Production'][['Code', '1997']].reset_index(drop=True)\n",
    "merg5.rename(columns={'1997': 'Production'}, inplace=True)\n",
    "merg6 = dfC[dfC['Source'] == 'Consumption'][['Code', '1997']].reset_index(drop=True)\n",
    "merg6.rename(columns={'1997': 'Consumption'}, inplace=True)\n",
    "merg7 = dfGDPC[['Code', '1997']]\n",
    "merg7.rename(columns={'1997': 'PIB/pers'}, inplace=True)\n",
    "\n",
    "df1997 = merg1.merge(merg2,on='Code').merge(merg3,on='Code').merge(merg4,on='Code').merge(merg5,on='Code').merge(merg6,on='Code').merge(merg7,on='Code')\n",
    "\n",
    "# plot a heatmap with annotation\n",
    "plt.figure(figsize=(8,8))\n",
    "sb.heatmap(df1997.corr(),\n",
    "            vmin=-1,\n",
    "            vmax=1,\n",
    "            cmap=sb.diverging_palette(145, 280, s=85, l=25, n=7),\n",
    "            square=True,\n",
    "            linewidths=.1,\n",
    "            annot=True);"
   ]
  }
 ],
 "metadata": {
  "kernelspec": {
   "display_name": "Python 3",
   "language": "python",
   "name": "python3"
  },
  "language_info": {
   "codemirror_mode": {
    "name": "ipython",
    "version": 3
   },
   "file_extension": ".py",
   "mimetype": "text/x-python",
   "name": "python",
   "nbconvert_exporter": "python",
   "pygments_lexer": "ipython3",
   "version": "3.7.4"
  },
  "orig_nbformat": 4,
  "vscode": {
   "interpreter": {
    "hash": "98f313b375bd142157bd85247f9cae0a692e725b9cc4cd8be55ca840b47a019b"
   }
  }
 },
 "nbformat": 4,
 "nbformat_minor": 2
}
