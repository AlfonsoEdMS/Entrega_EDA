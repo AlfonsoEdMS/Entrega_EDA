{
 "cells": [
  {
   "cell_type": "code",
   "execution_count": null,
   "metadata": {},
   "outputs": [],
   "source": [
    "#Librerías\n",
    "import pandas as pd \n",
    "import numpy as np\n",
    "import seaborn as sb\n",
    "import matplotlib.pyplot as plt\n",
    "%matplotlib inline\n",
    "plt.style.use('seaborn-white')\n",
    "from wordcloud import WordCloud\n",
    "import matplotlib.pyplot as plt\n",
    "from PIL import Image\n",
    "#Archivos internas\n",
    "import sys\n",
    "sys.path.insert(1, r'C:\\Users\\Usuario\\Documents\\Entrega_EDA\\DataProcessing')\n",
    "from Listas import ppetrol\n",
    "from Variables import dicc_country, dicc_country_1, ltW, cdW\n",
    "from Lectura_DataSets import dfAE, dfC, dfP, dfEI, dfGDP, dfNP, dfGDPC"
   ]
  },
  {
   "attachments": {},
   "cell_type": "markdown",
   "metadata": {},
   "source": [
    "### ¿Son los países que lideran la producción de energía a partir de recursos fósiles, los más ricos y menos renovables?"
   ]
  },
  {
   "cell_type": "code",
   "execution_count": null,
   "metadata": {},
   "outputs": [],
   "source": [
    "a1 = dfP[(dfP['Source']=='Petroleum and other liquids') | (dfP['Source']=='Coal') | (dfP['Source']=='Natural gas')][['Code', 'Source', '2019']]\n",
    "a1.reset_index(inplace=True, drop= True)\n",
    "a1.drop([0,1,2],axis=0, inplace=True)\n",
    "\n",
    "# a2 = a1.sort_values('2019', ascending=False)\n",
    "a2 = a1.sort_values(by=['Source', '2019'], ascending=False)\n",
    "# a2.groupby('Source', sort=False).max()"
   ]
  },
  {
   "cell_type": "markdown",
   "metadata": {},
   "source": [
    "a3 = es una lista de los 15 países con mayor producción a partir de las tres fuentes fosiles principales.\n",
    "\n",
    "3list = ['CHN', 'USA', 'RUS', 'SAU', 'CAN', 'AUS', 'IDN', 'IRN', 'IND', 'ARE',\n",
    "       'IRQ', 'QAT', 'KAZ', 'NOR', 'KWT', 'BRA']\n",
    "       \n",
    "No confundir:\n",
    "dicc_country['India']\n",
    "dicc_country_1['IND']\n",
    "dicc_country['Indonesia']\n",
    "dicc_country_1['IDN']"
   ]
  },
  {
   "cell_type": "code",
   "execution_count": null,
   "metadata": {},
   "outputs": [],
   "source": [
    "dicc_country_1['ARE']"
   ]
  },
  {
   "cell_type": "code",
   "execution_count": null,
   "metadata": {},
   "outputs": [],
   "source": [
    "a3 = a1.groupby('Code').agg(np.sum).sort_values('2019', ascending=False)[0:25]\n",
    "a3.index\n"
   ]
  },
  {
   "cell_type": "code",
   "execution_count": null,
   "metadata": {},
   "outputs": [],
   "source": [
    "a3list = ['CHN', 'USA', 'RUS', 'SAU', 'CAN', 'AUS', 'IDN', 'IRN', 'IND', 'ARE',\n",
    "       'IRQ', 'QAT', 'KAZ', 'NOR', 'KWT', 'BRA']"
   ]
  },
  {
   "cell_type": "code",
   "execution_count": null,
   "metadata": {},
   "outputs": [],
   "source": [
    "frase = []\n",
    "for n in a3list:\n",
    "    nombre = dicc_country_1[n]\n",
    "    frase.append(nombre)"
   ]
  },
  {
   "cell_type": "code",
   "execution_count": null,
   "metadata": {},
   "outputs": [],
   "source": [
    "frase"
   ]
  },
  {
   "cell_type": "code",
   "execution_count": null,
   "metadata": {},
   "outputs": [],
   "source": [
    "# !pip install wordcloud"
   ]
  },
  {
   "cell_type": "code",
   "execution_count": null,
   "metadata": {},
   "outputs": [],
   "source": [
    "\n",
    "# Create a list of word\n",
    "text=('China United_States Russia Saudi_Arabia Canada Australia Indonesia Iran India Emirates Iraq Qatar Kazakhstan Norway Kuwait Brazil')\n",
    "# mask = np.array(Image.open(\"mapa_mundo2.jpg\"))\n",
    "wordcloud = WordCloud(width = 3000, height = 2000, random_state=1, background_color='white', max_words=1000).generate(text)\n",
    "# create twitter image\n",
    "plt.figure(figsize=[12,12])\n",
    "plt.imshow(wordcloud, interpolation=\"bilinear\")\n",
    "plt.axis(\"off\")\n",
    "# store to file\n",
    "plt.savefig(\"twitter.png\", format=\"png\")\n",
    "plt.show()\n",
    "plt.savefig('listword.png', dpi = 300, orientation = 'horizontal')"
   ]
  },
  {
   "cell_type": "code",
   "execution_count": null,
   "metadata": {},
   "outputs": [],
   "source": [
    "ffuels = dfP[dfP['Code'].isin(a3list)][['Code', 'Source', '1998','2008','2019']].reset_index(drop=True)"
   ]
  },
  {
   "cell_type": "code",
   "execution_count": null,
   "metadata": {},
   "outputs": [],
   "source": [
    "ffuels = ffuels.pivot(index=\"Code\", columns=\"Source\",values=\"2019\").fillna(0)"
   ]
  },
  {
   "cell_type": "code",
   "execution_count": null,
   "metadata": {},
   "outputs": [],
   "source": [
    "type(ffuels)"
   ]
  },
  {
   "cell_type": "code",
   "execution_count": null,
   "metadata": {},
   "outputs": [],
   "source": [
    "ffuels.reset_index(inplace=True)"
   ]
  },
  {
   "cell_type": "code",
   "execution_count": null,
   "metadata": {},
   "outputs": [],
   "source": [
    "ffuels.head()"
   ]
  },
  {
   "cell_type": "code",
   "execution_count": null,
   "metadata": {},
   "outputs": [],
   "source": [
    "f, ax = plt.subplots(figsize=(7, 7))\n",
    "\n",
    "# Load the example car crash dataset\n",
    "fosilfuels = ffuels.sort_values('Production', ascending=True)\n",
    "\n",
    "# Plot the total crashes\n",
    "sb.set_color_codes(\"pastel\")\n",
    "sb.barplot(x=\"Coal\", y=\"Code\", data=fosilfuels,\n",
    "            label=\"Coal\", color=\"b\")\n",
    "\n",
    "# Plot the crashes where alcohol was involved\n",
    "sb.set_color_codes(\"muted\")\n",
    "sb.barplot(x=\"Natural gas\", y=\"Code\", data=fosilfuels,\n",
    "            label=\"Natural gas\", color=\"b\")\n",
    "\n",
    "# Plot the crashes where alcohol was involved\n",
    "sb.set_color_codes(\"bright\")\n",
    "sb.barplot(x=\"Petroleum and other liquids\", y=\"Code\", data=fosilfuels,\n",
    "            label=\"Petroleum and other liquids\", color=\"b\")\n",
    "\n",
    "# Add a legend and informative axis label\n",
    "ax.legend(ncol=2, loc=\"upper right\", frameon=True)\n",
    "ax.set(xlim=(0, 90), ylabel=\"\",\n",
    "       xlabel=\"Primary Energy (Production in Btu)\")\n",
    "sb.despine(left=True, bottom=True)"
   ]
  },
  {
   "cell_type": "code",
   "execution_count": null,
   "metadata": {},
   "outputs": [],
   "source": [
    "f, ax = plt.subplots(figsize=(10, 7))\n",
    "sb.set(style=\"darkgrid\")\n",
    "# Load the example car crash dataset\n",
    "fosilfuels = ffuels.sort_values('Production', ascending=True)\n",
    "\n",
    "# Plot the total crashes\n",
    "sb.set_color_codes(\"pastel\")\n",
    "sb.barplot(x=fosilfuels[\"Coal\"], y=fosilfuels[\"Code\"],\n",
    "            label=\"Coal\", color=\"b\")\n",
    "\n",
    "# Plot the crashes where alcohol was involved\n",
    "sb.set_color_codes(\"muted\")\n",
    "sb.barplot(x=fosilfuels[\"Natural gas\"], y=fosilfuels[\"Code\"],\n",
    "            label=\"Natural gas\", color=\"b\")\n",
    "\n",
    "# Plot the crashes where alcohol was involved\n",
    "sb.set_color_codes(\"colorblind\")\n",
    "sb.barplot(x=fosilfuels[\"Petroleum and other liquids\"], y=fosilfuels[\"Code\"],\n",
    "            label=\"Petroleum and other liquids\", color=\"b\")\n",
    "\n",
    "# Plot the total crashes\n",
    "sb.set_color_codes(\"bright\")\n",
    "sb.barplot(x=-fosilfuels[\"Nuclear\"], y=fosilfuels[\"Code\"],\n",
    "            label=\"Nuclear\", color=\"b\")\n",
    "\n",
    "# Plot the crashes where alcohol was involved\n",
    "sb.set_color_codes(\"dark\")\n",
    "sb.barplot(x=-fosilfuels[\"Renewables\"], y=fosilfuels[\"Code\"],\n",
    "            label=\"Renewables\", color=\"b\")\n",
    "\n",
    "# Add a legend and informative axis label\n",
    "ax.legend(ncol=2, loc=\"upper right\", frameon=True)\n",
    "ax.set(xlim=(-30, 90), ylabel=\"\",\n",
    "       xlabel=\"Primary Energy (Production in Quads)\")\n",
    "sb.despine(left=True, bottom=True)\n",
    "\n",
    "plt.savefig('barchart.png', dpi = 300, orientation = 'horizontal')"
   ]
  },
  {
   "cell_type": "markdown",
   "metadata": {},
   "source": [
    "Queso puede ser World/Brazil/Canada/India, etc"
   ]
  },
  {
   "cell_type": "code",
   "execution_count": null,
   "metadata": {},
   "outputs": [],
   "source": [
    "queso = dfP[dfP['Code'].isin(a3list)][['Code', 'Source', '1998','2008','2019']].reset_index(drop=True)\n",
    "# queso = queso.groupby('Source').agg(np.sum)\n",
    "queso = queso[queso['Code']=='CHN']\n",
    "queso = queso[(queso['Source']!='Production') & (queso['Source']!='Renewables')]\n"
   ]
  },
  {
   "cell_type": "code",
   "execution_count": null,
   "metadata": {},
   "outputs": [],
   "source": [
    "queso.set_index('Source', inplace= True)"
   ]
  },
  {
   "cell_type": "code",
   "execution_count": null,
   "metadata": {},
   "outputs": [],
   "source": [
    "queso.index"
   ]
  },
  {
   "cell_type": "code",
   "execution_count": null,
   "metadata": {},
   "outputs": [],
   "source": [
    "# preparación de datos\n",
    "nums = queso['1998']\n",
    "labels = queso.index\n",
    "\n",
    "# Dibuja un gráfico circular con Matplotlib\n",
    "plt.pie(x = nums, labels=labels)\n",
    "plt.show()"
   ]
  },
  {
   "cell_type": "code",
   "execution_count": null,
   "metadata": {},
   "outputs": [],
   "source": [
    "data = queso['2019']\n",
    "labels = queso.index\n",
    " \n",
    "explode = (0.0, 0.0, 0.0, 0.0)\n",
    " \n",
    "colors = (\"orange\", \"cyan\", \"brown\", \"grey\", \"indigo\")\n",
    " \n",
    "wp = {'linewidth': 1, 'edgecolor': \"green\"}\n",
    " \n",
    "def func(pct, allvalues):\n",
    "    absolute = int(pct / 100.*np.sum(allvalues))\n",
    "    return \"{:.1f}%\".format(pct, absolute)\n",
    " \n",
    "fig, ax = plt.subplots(figsize=(8, 6))\n",
    "wedges, texts, autotexts = ax.pie(data, autopct=lambda pct: func(pct, data), explode=explode, labels=labels,\n",
    "                                  shadow=True, colors=colors, startangle=90, wedgeprops=wp,\n",
    "                                  textprops=dict(color=\"k\"))\n",
    " \n",
    "ax.legend(wedges, labels, title=\"Energy Mix\", loc=\"upper right\",\n",
    "          bbox_to_anchor=(1, 0, 0.5, 1))\n",
    "plt.setp(autotexts, size=14, weight=\"bold\")\n",
    "ax.set_title(\" 1998 (Pie chart)\")\n",
    " \n",
    "plt.show()"
   ]
  },
  {
   "cell_type": "code",
   "execution_count": null,
   "metadata": {},
   "outputs": [],
   "source": [
    "data = queso['1998']\n",
    "data1 = queso['2008']\n",
    "data2 = queso['2019']\n",
    "labels = queso.index\n",
    " \n",
    "explode = (0.0, 0.0, 0.0, 0.0, 0.0)\n",
    "colors = (\"deepskyblue\", \"mediumaquamarine\", \"hotpink\", \"lightgrey\", \"yellow\")\n",
    "wp = {'linewidth': 1, 'edgecolor': \"grey\"}\n",
    " \n",
    "def func(pct, allvalues):\n",
    "    absolute = int(pct / 100.*np.sum(allvalues))\n",
    "    return \"{:.1f}%\".format(pct, absolute)\n",
    "\n",
    "fig, (ax1, ax2, ax3) = plt.subplots(1, 3, figsize=(22,6))\n",
    "fig.suptitle('Mix Energético', fontsize = 16)\n",
    "\n",
    "# fig, ax1 = plt.plot(figsize=(7, 5))\n",
    "wedges, texts, autotexts = ax1.pie(data, autopct=lambda pct: func(pct, data), explode=explode, labels=labels,\n",
    "                                  shadow=True, colors=colors, startangle=90, wedgeprops=wp,\n",
    "                                  textprops=dict(color=\"k\"))\n",
    "plt.setp(autotexts, size=14, weight=\"bold\")\n",
    "# fig, ax2 = plt.plot(figsize=(8, 6))\n",
    "wedges, texts, autotexts = ax2.pie(data1, autopct=lambda pct: func(pct, data1), explode=explode, labels=labels,\n",
    "                                  shadow=True, colors=colors, startangle=90, wedgeprops=wp,\n",
    "                                  textprops=dict(color=\"k\"))\n",
    "plt.setp(autotexts, size=14, weight=\"bold\")\n",
    "# fig, ax3 = plt.plot(figsize=(9, 7))\n",
    "wedges, texts, autotexts = ax3.pie(data2, autopct=lambda pct: func(pct, data2), explode=explode, labels=labels,\n",
    "                                  shadow=True, colors=colors, startangle=90, wedgeprops=wp,\n",
    "                                  textprops=dict(color=\"k\"))\n",
    "plt.setp(autotexts, size=14, weight=\"bold\")\n",
    "\n",
    "# ax3.legend(wedges, labels, title=\"Energy Mix\", loc=\"upper right\",\n",
    "#           bbox_to_anchor=(1, 0, 0.5, 1))\n",
    "\n",
    "ax1.set_title(\"1998\", fontsize=15)\n",
    "ax2.set_title(\" 2008\", fontsize=15)\n",
    "ax3.set_title(\"2019\", fontsize=15)\n",
    "plt.show()\n",
    "\n",
    "# plt.savefig('quesito.png', dpi = 300, orientation = 'horizontal')\n",
    "plt.savefig('quesito.png', bbox_inches = 'tight', orientation = 'horizontal', dpi=300);"
   ]
  },
  {
   "attachments": {},
   "cell_type": "markdown",
   "metadata": {},
   "source": [
    "Hacer tres muy parecidas Produccion / Consumo / Y otra a través de la lista de internet"
   ]
  },
  {
   "cell_type": "code",
   "execution_count": null,
   "metadata": {},
   "outputs": [],
   "source": [
    "queso = dfP[dfP['Code'].isin(euro)][['Code', 'Source', '1998','2008','2019']].reset_index(drop=True)\n",
    "# queso = queso.groupby('Source').agg(np.sum)\n",
    "# queso = queso[queso['Code']=='CHN']"
   ]
  },
  {
   "cell_type": "code",
   "execution_count": null,
   "metadata": {},
   "outputs": [],
   "source": [
    "queso = queso[(queso['Source']!='Production') & (queso['Source']!='Nuclear, renewables, and other')]\n",
    "queso.set_index('Source', inplace= True)\n",
    "queso"
   ]
  },
  {
   "cell_type": "code",
   "execution_count": null,
   "metadata": {},
   "outputs": [],
   "source": [
    "queso = queso.groupby('Source').agg(np.sum)"
   ]
  },
  {
   "cell_type": "code",
   "execution_count": null,
   "metadata": {},
   "outputs": [],
   "source": [
    "data = queso['1998']\n",
    "data1 = queso['2008']\n",
    "data2 = queso['2019']\n",
    "labels = queso.index\n",
    " \n",
    "explode = (0.0, 0.0, 0.0, 0.0, 0.0)\n",
    "colors = (\"deepskyblue\", \"mediumaquamarine\", \"hotpink\", \"lightgrey\", \"yellow\")\n",
    "wp = {'linewidth': 1, 'edgecolor': \"grey\"}\n",
    " \n",
    "def func(pct, allvalues):\n",
    "    absolute = int(pct / 100.*np.sum(allvalues))\n",
    "    return \"{:.1f}%\".format(pct, absolute)\n",
    "\n",
    "fig, (ax1, ax2, ax3) = plt.subplots(1, 3, figsize=(22,6))\n",
    "fig.suptitle('Mix Energético Europeo', fontsize = 16)\n",
    "\n",
    "# fig, ax1 = plt.plot(figsize=(7, 5))\n",
    "wedges, texts, autotexts = ax1.pie(data, autopct=lambda pct: func(pct, data), explode=explode, labels=labels,\n",
    "                                  shadow=True, colors=colors, startangle=90, wedgeprops=wp,\n",
    "                                  textprops=dict(color=\"k\"))\n",
    "plt.setp(autotexts, size=14, weight=\"bold\")\n",
    "# fig, ax2 = plt.plot(figsize=(8, 6))\n",
    "wedges, texts, autotexts = ax2.pie(data1, autopct=lambda pct: func(pct, data1), explode=explode, labels=labels,\n",
    "                                  shadow=True, colors=colors, startangle=90, wedgeprops=wp,\n",
    "                                  textprops=dict(color=\"k\"))\n",
    "plt.setp(autotexts, size=14, weight=\"bold\")\n",
    "# fig, ax3 = plt.plot(figsize=(9, 7))\n",
    "wedges, texts, autotexts = ax3.pie(data2, autopct=lambda pct: func(pct, data2), explode=explode, labels=labels,\n",
    "                                  shadow=True, colors=colors, startangle=90, wedgeprops=wp,\n",
    "                                  textprops=dict(color=\"k\"))\n",
    "plt.setp(autotexts, size=14, weight=\"bold\")\n",
    "\n",
    "# ax3.legend(wedges, labels, title=\"Energy Mix\", loc=\"upper right\",\n",
    "#           bbox_to_anchor=(1, 0, 0.5, 1))\n",
    "\n",
    "ax1.set_title(\"1998\", fontsize=15)\n",
    "ax2.set_title(\" 2008\", fontsize=15)\n",
    "ax3.set_title(\"2019\", fontsize=15)\n",
    "plt.show()\n",
    "\n",
    "# plt.savefig('quesito.png', dpi = 300, orientation = 'horizontal')\n",
    "plt.savefig('quesitoEuro.png', orientation = 'horizontal', dpi=300);"
   ]
  },
  {
   "attachments": {},
   "cell_type": "markdown",
   "metadata": {},
   "source": [
    "Ver la media de GDP en el mundo con estos 15 paises y sin ellos. Vemos que 10 de los países con mayor producción de energía a partir de combustibles fosiles están entre los 25 países más ricos del mundo."
   ]
  },
  {
   "cell_type": "code",
   "execution_count": null,
   "metadata": {},
   "outputs": [],
   "source": [
    "r1list = dfGDP.sort_values('2020', ascending = False)[0:25]\n",
    "r1list.head(15)"
   ]
  },
  {
   "cell_type": "code",
   "execution_count": null,
   "metadata": {},
   "outputs": [],
   "source": [
    "r2list = dfGDPC.sort_values('2019', ascending = False)[0:22]\n",
    "r2list.head(15)"
   ]
  },
  {
   "cell_type": "code",
   "execution_count": null,
   "metadata": {},
   "outputs": [],
   "source": [
    "si = []\n",
    "no = []\n",
    "count = 0\n",
    "\n",
    "for n in a3list:\n",
    "    if n in r1list['Code'].unique():\n",
    "        si.append(n)\n",
    "        count += 1\n",
    "    else:\n",
    "        no.append(n)\n",
    "\n",
    "print('Los ' + str(count) + ' países que sí están entre los más ricos: ' + str(si) + '\\nLos que no están: ' + str(no))"
   ]
  },
  {
   "cell_type": "code",
   "execution_count": null,
   "metadata": {},
   "outputs": [],
   "source": [
    "si = []\n",
    "no = []\n",
    "count = 0\n",
    "\n",
    "for n in a3list:\n",
    "    if n in r2list['Code'].unique():\n",
    "        si.append(n)\n",
    "        count += 1\n",
    "    else:\n",
    "        no.append(n)\n",
    "\n",
    "print('Los ' + str(count) + ' países que sí están entre los más ricos: ' + str(si) + '\\nLos que no están: ' + str(no))"
   ]
  },
  {
   "attachments": {},
   "cell_type": "markdown",
   "metadata": {},
   "source": [
    "### Ojo! Que aparecen países como Brasil e india y se quedan fuera otros como Qatar"
   ]
  },
  {
   "cell_type": "code",
   "execution_count": null,
   "metadata": {},
   "outputs": [],
   "source": [
    "# dfGDP.head()\n",
    "dfGDP.drop(0, inplace= True)\n",
    "dfGDP.head()\n"
   ]
  },
  {
   "cell_type": "code",
   "execution_count": null,
   "metadata": {},
   "outputs": [],
   "source": [
    "# df[~df['col_name'].isin(values_list)]\n",
    "nrich = dfGDP[~dfGDP['Code'].isin(a3list)]\n",
    "jrich = dfGDP[dfGDP['Code'].isin(a3list)]\n"
   ]
  },
  {
   "cell_type": "code",
   "execution_count": null,
   "metadata": {},
   "outputs": [],
   "source": [
    "puff = nrich.describe()\n",
    "puff = puff.transpose()\n",
    "puff.reset_index(inplace=True)\n",
    "puff['index'] = pd.to_numeric(puff['index'], errors ='coerce')\n",
    "puff.head()"
   ]
  },
  {
   "cell_type": "code",
   "execution_count": null,
   "metadata": {},
   "outputs": [],
   "source": [
    "puf = dfGDP.describe()\n",
    "puf = puf.transpose()\n",
    "puf.reset_index(inplace=True)\n",
    "puf['index'] = pd.to_numeric(puf['index'], errors ='coerce')\n",
    "puf.head()"
   ]
  },
  {
   "cell_type": "code",
   "execution_count": null,
   "metadata": {},
   "outputs": [],
   "source": [
    "jrich.head()"
   ]
  },
  {
   "cell_type": "code",
   "execution_count": null,
   "metadata": {},
   "outputs": [],
   "source": [
    "pufff = jrich.describe()\n",
    "pufff = pufff.transpose()\n",
    "pufff.reset_index(inplace=True)\n",
    "pufff['index'] = pd.to_numeric(pufff['index'], errors ='coerce')\n",
    "pufff.head()"
   ]
  },
  {
   "cell_type": "markdown",
   "metadata": {},
   "source": [
    "!Busca como pivotar totalmente las tablas.describe()¡"
   ]
  },
  {
   "cell_type": "code",
   "execution_count": null,
   "metadata": {},
   "outputs": [],
   "source": [
    "sb.set_theme()\n",
    "figsize = (14,8)\n",
    "# plotting both distibutions on the same figure\n",
    "fig = sb.kdeplot(puf['mean'], shade=True, color=\"r\", gridsize= 1000)\n",
    "fig = sb.kdeplot(puff['mean'], shade=True, color=\"b\", gridsize= 1000)\n",
    "fig = sb.kdeplot(pufff['mean'], shade=True, color=\"y\", gridsize= 1000)\n",
    "plt.xlabel(\"mean(PIB)\")\n",
    "plt.show();\n",
    "plt.savefig('densityplt.png', dpi = 300, orientation = 'horizontal')"
   ]
  },
  {
   "cell_type": "code",
   "execution_count": null,
   "metadata": {},
   "outputs": [],
   "source": [
    "# fig, axes = plt.subplots(1, 2, figsize=(22,6))\n",
    "# set seaborn style\n",
    "sb.set_theme()\n",
    " \n",
    "# Data\n",
    "x= puf['index']\n",
    "y=[puf['min'], puf['mean'], puf['max']]\n",
    " \n",
    "# Plot\n",
    "pal = [\"#9b59b6\", \"#e74c3c\", \"#34495e\", \"#2ecc71\"]\n",
    "plt.stackplot(x, y, labels=['min','mean','max'], colors=pal, alpha=0.4)\n",
    "plt.legend(loc='upper left')\n",
    "plt.show()"
   ]
  },
  {
   "cell_type": "code",
   "execution_count": null,
   "metadata": {},
   "outputs": [],
   "source": [
    "\n",
    "# Data\n",
    "x1= puff['index']\n",
    "y1=[ puff['min'], puff['mean'], puff['max'] ]\n",
    " \n",
    "# Plot\n",
    "pale = sb.color_palette(\"Set1\")\n",
    "plt.stackplot(x1 ,y1 , labels=['min','mean','max'], colors=pale, alpha=0.4)\n",
    "plt.legend(loc='upper left')\n",
    "\n",
    "plt.show()"
   ]
  },
  {
   "cell_type": "markdown",
   "metadata": {},
   "source": [
    "### ¿Cuales son los más Renovables?"
   ]
  },
  {
   "cell_type": "code",
   "execution_count": null,
   "metadata": {},
   "outputs": [],
   "source": [
    "dfC.head()"
   ]
  },
  {
   "cell_type": "code",
   "execution_count": null,
   "metadata": {},
   "outputs": [],
   "source": [
    "b1 = dfP[dfP['Source']=='Renewables'][['Code', 'Source', '2019']]\n",
    "b1.reset_index(inplace=True, drop= True)\n",
    "b1.drop([0],axis=0, inplace=True)\n",
    "# a2 = a1.sort_values('2019', ascending=False)\n",
    "b2 = b1.sort_values(by=['Source', '2019'], ascending=False)\n",
    "# a2.groupby('Source', sort=False).max()"
   ]
  },
  {
   "cell_type": "code",
   "execution_count": null,
   "metadata": {},
   "outputs": [],
   "source": [
    "def function(x):\n",
    "    porcentaje = (x / 601.040490) * 100\n",
    "    b2['% C.Total'] = porcentaje\n",
    "\n",
    "function(b2['2019'])"
   ]
  },
  {
   "cell_type": "code",
   "execution_count": null,
   "metadata": {},
   "outputs": [],
   "source": [
    "b2.reset_index(drop=True, inplace=True)"
   ]
  },
  {
   "cell_type": "code",
   "execution_count": null,
   "metadata": {},
   "outputs": [],
   "source": [
    "b2[0:15].T"
   ]
  },
  {
   "cell_type": "markdown",
   "metadata": {},
   "source": [
    "Vamos a representar el desarrollo a traves de los años de las principales fuentes de producción de energía primaria."
   ]
  },
  {
   "cell_type": "code",
   "execution_count": null,
   "metadata": {},
   "outputs": [],
   "source": [
    "dfP = dfP.drop([0,1,2,3,4,5,6],axis=0).reset_index(drop=True)"
   ]
  },
  {
   "cell_type": "code",
   "execution_count": null,
   "metadata": {},
   "outputs": [],
   "source": [
    "dfP.reset_index(drop=True, inplace=True)"
   ]
  },
  {
   "cell_type": "code",
   "execution_count": null,
   "metadata": {},
   "outputs": [],
   "source": [
    "anios = np.array(dfP.columns)[2:]\n",
    "np.shape(anios)\n",
    "# anios"
   ]
  },
  {
   "cell_type": "code",
   "execution_count": null,
   "metadata": {},
   "outputs": [],
   "source": [
    "# dfP[dfP['Code'] == 'CHN']"
   ]
  },
  {
   "cell_type": "code",
   "execution_count": null,
   "metadata": {},
   "outputs": [],
   "source": [
    "im1 = dfP[dfP['Source'] == 'Coal']\n",
    "im1 = im1.groupby('Source').agg(np.sum)\n",
    "im2 = dfP[dfP['Source'] == 'Natural gas']\n",
    "im2 = im2.groupby('Source').agg(np.sum)\n",
    "im3 = dfP[dfP['Source'] == 'Petroleum and other liquids']\n",
    "im3 = im3.groupby('Source').agg(np.sum)\n",
    "im4 = dfP[dfP['Source'] == 'Nuclear']\n",
    "im4 = im4.groupby('Source').agg(np.sum)\n",
    "im5 = dfP[dfP['Source'] == 'Renewables']\n",
    "im5 = im5.groupby('Source').agg(np.sum)"
   ]
  },
  {
   "cell_type": "code",
   "execution_count": null,
   "metadata": {},
   "outputs": [],
   "source": [
    "coal = np.reshape(np.array(im1), (23,))\n",
    "nt_gas = np.reshape(np.array(im2), (23,))\n",
    "petrol = np.reshape(np.array(im3), (23,))\n",
    "nuclear = np.reshape(np.array(im4), (23,))\n",
    "renewables = np.reshape(np.array(im5), (23,))"
   ]
  },
  {
   "cell_type": "code",
   "execution_count": null,
   "metadata": {},
   "outputs": [],
   "source": [
    "plt.figure(figsize=[20,10])\n",
    "# anios = np.array(img2.columns)[2:], (1,40)\n",
    "plt.subplot(2, 2, 1) #roxs, columns, position\n",
    "plt.plot(anios, coal, color='blue')\n",
    "plt.xticks(anios, rotation='vertical', size=9)\n",
    "plt.xlabel('años')\n",
    "plt.ylabel('Coal Quad (mtu)')\n",
    "\n",
    "plt.subplot(2, 2, 2)\n",
    "plt.plot(anios, nt_gas, color='g')\n",
    "plt.xticks(anios, rotation='vertical', size=9)\n",
    "plt.xlabel('años')\n",
    "plt.ylabel('N_Gas Quad (mtu)')\n",
    "\n",
    "plt.subplot(2, 2, 3)\n",
    "plt.plot(anios, petrol, color='c')\n",
    "plt.xticks(anios, rotation='vertical', size=9)\n",
    "plt.xlabel('años')\n",
    "plt.ylabel('Petrol Quad (mtu)')\n",
    "\n",
    "plt.subplot(2, 2, 4)\n",
    "plt.plot(anios, nuclear, renewables, color= 'y')\n",
    "plt.xticks(anios, rotation='vertical', size=9)\n",
    "plt.xlabel('años')\n",
    "plt.ylabel('Nuclear & Renewables Quad (mtu)')\n",
    "\n",
    "# plt.subplot(5, 1, 5)\n",
    "# plt.plot(anios, renewables, color='r')\n",
    "# plt.xticks(anios, rotation='vertical', size=9)\n",
    "# plt.xlabel('años')\n",
    "# plt.ylabel('Renewables Quad (mtu)');"
   ]
  },
  {
   "cell_type": "code",
   "execution_count": null,
   "metadata": {},
   "outputs": [],
   "source": [
    "# seaborn plot multiple lines\n",
    "# plt.style.use('seaborn-paper')\n",
    "sb.set_theme()\n",
    "my_dict = dict(x=anios,y=coal,z=nt_gas,i=petrol,j=nuclear,k=renewables)\n",
    "data = pd.DataFrame (my_dict)\n",
    "pal = sb.color_palette(palette='coolwarm', n_colors=5)\n",
    "fig, ax = plt.subplots(figsize=[8,6])\n",
    "ax= sb.lineplot(x='x', y='y', data=data, label='Coal', palette=pal)\n",
    "ax1 = sb.lineplot(x='x', y='z', data=data, label='Natural Gas', palette=pal)\n",
    "ax2 = sb.lineplot(x='x', y='i', data=data, label='Petrol', palette=pal)\n",
    "ax3 = sb.lineplot(x='x', y='j', data=data, label='Nuclear', palette=pal)\n",
    "ax4 = sb.lineplot(x='x', y='k', data=data, label='Renewables', palette=pal)\n",
    "plt.xticks(anios, rotation='vertical')\n",
    "plt.xlabel('Anual Evolution')\n",
    "plt.ylabel('Quad (mtu)');"
   ]
  },
  {
   "cell_type": "code",
   "execution_count": null,
   "metadata": {},
   "outputs": [],
   "source": [
    "dfC = dfC.drop([0,1,2,3,4,5,6],axis=0).reset_index(drop=True)\n",
    "dfC.head(8)"
   ]
  },
  {
   "cell_type": "code",
   "execution_count": null,
   "metadata": {},
   "outputs": [],
   "source": [
    "im1 = dfC[dfC['Source'] == 'Coal']\n",
    "im1 = im1.groupby('Source').agg(np.sum)\n",
    "im2 = dfC[dfC['Source'] == 'Natural gas']\n",
    "im2 = im2.groupby('Source').agg(np.sum)\n",
    "im3 = dfC[dfC['Source'] == 'Petroleum and other liquids']\n",
    "im3 = im3.groupby('Source').agg(np.sum)\n",
    "im4 = dfC[dfC['Source'] == 'Nuclear']\n",
    "im4 = im4.groupby('Source').agg(np.sum)\n",
    "im5 = dfC[dfC['Source'] == 'Renewables']\n",
    "im5 = im5.groupby('Source').agg(np.sum)\n",
    "\n",
    "coal = np.reshape(np.array(im1), (23,))\n",
    "nt_gas = np.reshape(np.array(im2), (23,))\n",
    "petrol = np.reshape(np.array(im3), (23,))\n",
    "nuclear = np.reshape(np.array(im4), (23,))\n",
    "renewables = np.reshape(np.array(im5), (23,))"
   ]
  },
  {
   "cell_type": "code",
   "execution_count": null,
   "metadata": {},
   "outputs": [],
   "source": [
    "# seaborn plot multiple lines\n",
    "sb.set_theme()\n",
    "my_dict = dict(x=anios,y=coal,z=nt_gas,i=petrol,j=nuclear,k=renewables)\n",
    "data = pd.DataFrame(my_dict)\n",
    "pal = sb.color_palette(palette='coolwarm', n_colors=5)\n",
    "fig, ax = plt.subplots(figsize=[8,6])\n",
    "ax= sb.lineplot(x='x', y='y', data=data, label='Coal', palette=pal)\n",
    "ax1 = sb.lineplot(x='x', y='z', data=data, label='Natural Gas', palette=pal)\n",
    "ax2 = sb.lineplot(x='x', y='i', data=data, label='Petrol', palette=pal)\n",
    "ax3 = sb.lineplot(x='x', y='j', data=data, label='Nuclear', palette=pal)\n",
    "ax4 = sb.lineplot(x='x', y='k', data=data, label='Renewables', palette=pal)\n",
    "plt.xticks(anios, rotation='vertical')\n",
    "plt.xlabel('Anual Evolution')\n",
    "plt.ylabel('Quad (mtu)');"
   ]
  },
  {
   "attachments": {},
   "cell_type": "markdown",
   "metadata": {},
   "source": [
    "### ¿La producción de carbon en China es equivalente al total de la producción Renovable en Europa?"
   ]
  },
  {
   "cell_type": "code",
   "execution_count": null,
   "metadata": {},
   "outputs": [],
   "source": [
    "dfNP.head()\n",
    "dfNP[dfNP['Code']=='CHN']['2020']"
   ]
  },
  {
   "cell_type": "code",
   "execution_count": null,
   "metadata": {},
   "outputs": [],
   "source": [
    "euro = []\n",
    "for n in Europe:\n",
    "    x = dicc_country[n]\n",
    "    euro.append(x)"
   ]
  },
  {
   "cell_type": "code",
   "execution_count": null,
   "metadata": {},
   "outputs": [],
   "source": [
    "europe = dfNP[dfNP['Code'].isin(euro)][['Code', 'Country', '2020']]\n",
    "europe['2020'].sum()\n",
    "# ffuels = dfP[dfP['Code'].isin(a3list)][['Code', 'Source', '1998','2008','2019']].reset_index(drop=True)"
   ]
  },
  {
   "cell_type": "code",
   "execution_count": null,
   "metadata": {},
   "outputs": [],
   "source": [
    "dfP.head()"
   ]
  },
  {
   "attachments": {},
   "cell_type": "markdown",
   "metadata": {},
   "source": [
    "Suma total de la generación renovable en 2019 de toda europa"
   ]
  },
  {
   "cell_type": "code",
   "execution_count": null,
   "metadata": {},
   "outputs": [],
   "source": [
    "europ = dfP[(dfP['Code'].isin(euro)) & (dfP['Source'] == 'Renewables')]\n",
    "europ['2019'].sum()"
   ]
  },
  {
   "attachments": {},
   "cell_type": "markdown",
   "metadata": {},
   "source": [
    "Suma de la Produción Total en 2019 de toda europa"
   ]
  },
  {
   "cell_type": "code",
   "execution_count": null,
   "metadata": {},
   "outputs": [],
   "source": [
    "europ1 = dfP[(dfP['Code'].isin(euro)) & (dfP['Source'] == 'Production')]\n",
    "europ1['2019'].sum()\n"
   ]
  },
  {
   "cell_type": "code",
   "execution_count": null,
   "metadata": {},
   "outputs": [],
   "source": [
    "# ¿Cuanto supone en comparación contra las grandes Potencias mundiales (China, USA, CAN, Emirates)?"
   ]
  },
  {
   "cell_type": "markdown",
   "metadata": {},
   "source": [
    "### Analisis del Consumo "
   ]
  },
  {
   "cell_type": "code",
   "execution_count": null,
   "metadata": {},
   "outputs": [],
   "source": [
    "c1 = dfC.reset_index(drop=True)\n",
    "# c1 = dfC.drop([0,1,2,3,4,5,6],axis=0)\n",
    "# c1.reset_index(inplace=True, drop= True)\n",
    "c2 = c1[(c1['Source']=='Petroleum and other liquids') | (c1['Source']=='Coal') | (c1['Source']=='Natural gas')][['Code', 'Source', '2019']]\n",
    "# a2 = a1.sort_values('2019', ascending=False)\n",
    "c2 = c2.sort_values(by=['Source', '2019'], ascending=False)\n",
    "# a2.groupby('Source', sort=False).max()\n",
    "c3 = c2[0:16].reset_index(drop=True)"
   ]
  },
  {
   "cell_type": "code",
   "execution_count": null,
   "metadata": {},
   "outputs": [],
   "source": [
    "si = []\n",
    "no = []\n",
    "otr = []\n",
    "count = 0\n",
    "\n",
    "for n in a3list:\n",
    "    if n in c3['Code'].unique():\n",
    "        si.append(n)\n",
    "        count += 1\n",
    "    else:\n",
    "        no.append(n)\n",
    "for n in c3['Code'].unique():\n",
    "    if n not in a3list:\n",
    "        otr.append(n)\n",
    "\n",
    "\n",
    "print('Coinciden ' + str(count) + ' países dentro de la lista de los mayores productores de energía a partir de fuentes fosiles ' + str(si) +\n",
    " '\\nLos que no están: ' + str(no) + '\\nLos que consumen pero no producen: ' + str(otr))"
   ]
  },
  {
   "cell_type": "code",
   "execution_count": null,
   "metadata": {},
   "outputs": [],
   "source": [
    "['JPN', 'KOR', 'DEU', 'MEX', 'FRA', 'GBR', 'SGP']"
   ]
  },
  {
   "cell_type": "code",
   "execution_count": null,
   "metadata": {},
   "outputs": [],
   "source": [
    "dicc_country_1['NOR']"
   ]
  },
  {
   "attachments": {},
   "cell_type": "markdown",
   "metadata": {},
   "source": [
    "### Evolución de las Renovables. Ridgeline chart."
   ]
  },
  {
   "cell_type": "code",
   "execution_count": null,
   "metadata": {},
   "outputs": [],
   "source": [
    "im6 = dfP[dfP['Source'] == 'Renewables']\n",
    "im6 = im6.groupby('Source').agg(np.mean)\n",
    "im5.T # im6.T, "
   ]
  },
  {
   "cell_type": "code",
   "execution_count": null,
   "metadata": {},
   "outputs": [],
   "source": [
    "# import matplotlib.pyplot as plt\n",
    "month_dict = {1: '1997',\n",
    "              2: '1998',\n",
    "              3: '1999',\n",
    "              4: '2000',\n",
    "              5: '2001',\n",
    "              6: '2002',\n",
    "              7: '2003',\n",
    "              8: '2004',\n",
    "              9: '2005',\n",
    "              10: '2006',\n",
    "              11: '2007',\n",
    "              12: '2008',\n",
    "              13: '2009',\n",
    "              14: '2010',\n",
    "              15: '2011',\n",
    "              16: '2012',\n",
    "              17: '2013',\n",
    "              18: '2014',\n",
    "              19: '2015',\n",
    "              20: '2016',\n",
    "              21: '2017',\n",
    "              20: '2018',\n",
    "              21: '2019'}\n",
    "\n",
    "sb.set_theme(style=\"white\", rc={\"axes.facecolor\": (0, 0, 0, 0)})\n",
    "\n",
    "# getting the data\n",
    "df = im5.T\n",
    "# we generate a color palette with Seaborn.color_palette()\n",
    "pal = sb.color_palette(palette='coolwarm', n_colors=12)\n",
    "\n",
    "# in the sns.FacetGrid class, the 'hue' argument is the one that is the one that will be represented by colors with 'palette'\n",
    "g = sb.FacetGrid(df, aspect=15, height=0.75, palette=pal)\n",
    "\n",
    "# then we add the densities kdeplots for each month\n",
    "g.map(sb.kdeplot, 'Renewables',\n",
    "      bw_adjust=1, clip_on=False,\n",
    "      fill=True, alpha=1, linewidth=1.5)\n",
    "\n",
    "# here we add a white line that represents the contour of each kdeplot\n",
    "g.map(sb.kdeplot, 'Renewables', \n",
    "      bw_adjust=1, clip_on=False, \n",
    "      color=\"w\", lw=2)\n",
    "\n",
    "# here we add a horizontal line for each plot\n",
    "g.map(plt.axhline, y=0,\n",
    "      lw=2, clip_on=False)\n",
    "\n",
    "# we loop over the FacetGrid figure axes (g.axes.flat) and add the month as text with the right color\n",
    "# notice how ax.lines[-1].get_color() enables you to access the last line's color in each matplotlib.Axes\n",
    "for i, ax in enumerate(g.axes.flat):\n",
    "    ax.text(-15, 0.02, month_dict[i+1],\n",
    "            fontweight='bold', fontsize=15,\n",
    "            color=ax.lines[-1].get_color())\n",
    "    \n",
    "# we use matplotlib.Figure.subplots_adjust() function to get the subplots to overlap\n",
    "g.fig.subplots_adjust(hspace=-0.3)\n",
    "\n",
    "# # eventually we remove axes titles, yticks and spines\n",
    "g.set_titles(\"\")\n",
    "g.set(yticks=[])\n",
    "g.despine(bottom=True, left=True)\n",
    "\n",
    "plt.setp(ax.get_xticklabels(), fontsize=15, fontweight='bold')\n",
    "plt.xlabel('Temperature in degree Celsius', fontweight='bold', fontsize=15)\n",
    "g.fig.suptitle('Daily average temperature in Seattle per month',\n",
    "               ha='right',\n",
    "               fontsize=20,\n",
    "               fontweight=20)\n",
    "\n",
    "plt.show();"
   ]
  }
 ],
 "metadata": {
  "kernelspec": {
   "display_name": "Python 3",
   "language": "python",
   "name": "python3"
  },
  "language_info": {
   "codemirror_mode": {
    "name": "ipython",
    "version": 3
   },
   "file_extension": ".py",
   "mimetype": "text/x-python",
   "name": "python",
   "nbconvert_exporter": "python",
   "pygments_lexer": "ipython3",
   "version": "3.7.4 (tags/v3.7.4:e09359112e, Jul  8 2019, 20:34:20) [MSC v.1916 64 bit (AMD64)]"
  },
  "orig_nbformat": 4,
  "vscode": {
   "interpreter": {
    "hash": "98f313b375bd142157bd85247f9cae0a692e725b9cc4cd8be55ca840b47a019b"
   }
  }
 },
 "nbformat": 4,
 "nbformat_minor": 2
}
