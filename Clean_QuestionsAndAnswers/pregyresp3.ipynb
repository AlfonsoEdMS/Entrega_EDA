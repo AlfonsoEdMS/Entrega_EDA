{
 "cells": [
  {
   "cell_type": "code",
   "execution_count": null,
   "metadata": {},
   "outputs": [],
   "source": [
    "#Librerías\n",
    "import pandas as pd \n",
    "import numpy as np\n",
    "import seaborn as sb\n",
    "import matplotlib.pyplot as plt\n",
    "%matplotlib inline\n",
    "plt.style.use('seaborn-white')\n",
    "#Archivos internas\n",
    "import sys\n",
    "sys.path.insert(1, r'C:\\Users\\Usuario\\Documents\\Entrega_EDA\\DataProcessing')\n",
    "from Listas import ppetrol\n",
    "from Variables import dicc_country, dicc_country_1, ltW, cdW\n",
    "from Lectura_DataSets import dfAE, dfC, dfP, dfEI, dfGDP, dfNP, dfGDPC"
   ]
  },
  {
   "cell_type": "markdown",
   "metadata": {},
   "source": [
    "## ¿Es verdad que el 20% de la población Mundial consume el 80 % de la producción energética?"
   ]
  },
  {
   "cell_type": "code",
   "execution_count": null,
   "metadata": {},
   "outputs": [],
   "source": [
    "# dfNP.head() Personas en el Mundo 2019\n",
    "dfNP[dfNP['Code'] == 'WORL'][['Code', 'Country', '2018', '2019', '2020']]\n",
    "p2019 = np.array(dfNP[dfNP['Code'] == 'WORL']['2019'])\n",
    "# p2019"
   ]
  },
  {
   "cell_type": "code",
   "execution_count": null,
   "metadata": {},
   "outputs": [],
   "source": [
    "dfEI.head(1)"
   ]
  },
  {
   "cell_type": "code",
   "execution_count": null,
   "metadata": {},
   "outputs": [],
   "source": [
    "dfEI.describe()"
   ]
  },
  {
   "cell_type": "code",
   "execution_count": null,
   "metadata": {},
   "outputs": [],
   "source": [
    "ex3 = dfEI.drop([0], axis=0).reset_index(drop=True)"
   ]
  },
  {
   "cell_type": "code",
   "execution_count": null,
   "metadata": {},
   "outputs": [],
   "source": [
    "ex3.describe()[['1997', '1998', '1999', '2017', '2018', '2019']]"
   ]
  },
  {
   "cell_type": "code",
   "execution_count": null,
   "metadata": {},
   "outputs": [],
   "source": [
    "ex3.set_index('Code', inplace=True)"
   ]
  },
  {
   "cell_type": "code",
   "execution_count": null,
   "metadata": {},
   "outputs": [],
   "source": [
    "plt.style.use('ggplot')\n",
    "\n",
    "plt.figure(figsize=(18,6))\n",
    "sb.boxplot(data=ex3[ex3.columns.values[:18:-1]])\n",
    "sb.swarmplot(data=ex3[ex3.columns.values[:18:-1]],\n",
    "             color=\"yellow\", edgecolor=\"gray\")\n",
    "plt.ylim(0,600)\n",
    "plt.show();"
   ]
  },
  {
   "cell_type": "code",
   "execution_count": null,
   "metadata": {},
   "outputs": [],
   "source": [
    "plt.figure(figsize=(20,5))\n",
    "sb.boxplot(ex3[\"2019\"], color=\"greenyellow\")\n",
    "sb.swarmplot(ex3[\"2019\"],\n",
    "             color=\"forestgreen\", edgecolor=\"gray\")\n",
    "\n",
    "plt.savefig('boxplot.png', bbox_inches = 'tight', orientation = 'landscape');"
   ]
  },
  {
   "cell_type": "code",
   "execution_count": null,
   "metadata": {},
   "outputs": [],
   "source": [
    "# sb.set(style=\"darkgrid\")\n",
    "# plt.figure(figsize=(20,5))\n",
    "# sb.violinplot(ex3[\"1997\"], color='deepskyblue', bw= 0.7, inner=\"stick\");"
   ]
  },
  {
   "cell_type": "code",
   "execution_count": null,
   "metadata": {},
   "outputs": [],
   "source": [
    "'''       ¿Es verdad que el 20% de la población Mundial consume el 80 % de la producción energética?\n",
    "\n",
    "                                  108.211830 MMBtu/person (al año)\n",
    "\n",
    "                     20% de la población Mundial = 0.2 * 7714631.06383 (Mperson)\n",
    "\n",
    "                   80 % de la producción energética = 0.8 * 611.50896865 (Quad Btu)'''"
   ]
  },
  {
   "cell_type": "code",
   "execution_count": null,
   "metadata": {},
   "outputs": [],
   "source": [
    "prod_M_08 = 0.8 * 611.50896865\n",
    "prod_M_08"
   ]
  },
  {
   "cell_type": "code",
   "execution_count": null,
   "metadata": {},
   "outputs": [],
   "source": [
    "pobM02 = int(0.2 * (7714631.06383 * 1000))\n",
    "pobM02"
   ]
  },
  {
   "cell_type": "code",
   "execution_count": null,
   "metadata": {},
   "outputs": [],
   "source": [
    "consT = (108.211830 * pobM02) * 0.000000001\n",
    "consT"
   ]
  },
  {
   "cell_type": "code",
   "execution_count": null,
   "metadata": {},
   "outputs": [],
   "source": [
    "consT >= prod_M_08"
   ]
  },
  {
   "cell_type": "code",
   "execution_count": null,
   "metadata": {},
   "outputs": [],
   "source": [
    "(166.96286895548798 / 611.50896865) * 100"
   ]
  },
  {
   "cell_type": "markdown",
   "metadata": {},
   "source": [
    "Estoy cogiendo los países con mayor consumo!!"
   ]
  },
  {
   "cell_type": "code",
   "execution_count": null,
   "metadata": {},
   "outputs": [],
   "source": [
    "lst_paises_cons = dfC[(dfC['Source'] == 'Consumption') & (dfC['Code'] != 'WORL')][['Code', '2019']].sort_values('2019', ascending=False)\n",
    "lst_paises_cons.reset_index(drop=True, inplace=True)\n",
    "lst_paises_cons.iloc[0:23].sum()\n",
    "lst_cons = lst_paises_cons.iloc[0:4]\n",
    "lst_cons"
   ]
  },
  {
   "cell_type": "code",
   "execution_count": null,
   "metadata": {},
   "outputs": [],
   "source": [
    "dfC[(dfC['Source'] == 'Consumption') & ((dfC['Code'] == 'CHN') | (dfC['Code'] == 'IND'))][['Code', 'Source', '2019']]"
   ]
  },
  {
   "cell_type": "code",
   "execution_count": null,
   "metadata": {},
   "outputs": [],
   "source": [
    "# China que se acerca al 20% de la población Mundial, consume el 24% de la producción Mundial\n",
    "(151.608886/611.50896865) * 100"
   ]
  },
  {
   "cell_type": "code",
   "execution_count": null,
   "metadata": {},
   "outputs": [],
   "source": [
    "# China y India que juntos superan ligeramente el 20% de la población Mundial, consume el % de la producción Mundial\n",
    "((151.608886 + 31.782739)/611.50896865) * 100"
   ]
  },
  {
   "cell_type": "code",
   "execution_count": null,
   "metadata": {},
   "outputs": [],
   "source": [
    "# 20% del total de la población = 1542926212\n",
    "lst_paises_pop = dfNP[dfNP['Code'] != 'WORL'][['Code', '2019']].sort_values('2019', ascending=False)\n",
    "dfNP[dfNP['Code'].isin(lst_cons['Code'])][['Code', '2019']]\n",
    "# num_pers = np.array(dfNP[dfNP['Code'].isin(lst_cons['Code'])][['2019']].sum())\n"
   ]
  },
  {
   "attachments": {},
   "cell_type": "markdown",
   "metadata": {},
   "source": [
    "### Países con mayor consumo per cápita ordenado."
   ]
  },
  {
   "cell_type": "code",
   "execution_count": null,
   "metadata": {},
   "outputs": [],
   "source": [
    "# dfEI.head()\n",
    "rank = dfEI[dfEI['Code'] != 'WORL'][['Code', '2019']].sort_values('2019', ascending=False)\n",
    "rank.rename(columns={'2019':'Cons/pers'}, inplace=True)\n",
    "rank1 = dfNP[['Code', '2019']]\n",
    "rank1.rename(columns={'2019':'Mperson'}, inplace=True)\n",
    "\n",
    "dfpre3 = rank.merge(rank1,on='Code')"
   ]
  },
  {
   "cell_type": "code",
   "execution_count": null,
   "metadata": {},
   "outputs": [],
   "source": [
    "num_personas = 0\n",
    "count = 0\n",
    "\n",
    "for code in dfpre3['Mperson']:\n",
    "    list.append(code)\n",
    "    while num_personas < 1542926:\n",
    "        num_personas += int(code)\n",
    "        count += 1\n",
    "        break\n",
    "    "
   ]
  },
  {
   "cell_type": "code",
   "execution_count": null,
   "metadata": {},
   "outputs": [],
   "source": [
    "print('Habiendo parado en ' + str(num_personas) + 'personas ' + '. Hemos contado '+ str(count) + ' paises')"
   ]
  },
  {
   "cell_type": "code",
   "execution_count": null,
   "metadata": {},
   "outputs": [],
   "source": [
    "asegurarse = dfpre3.iloc[0:48]\n",
    "asegurarse['Mperson'].sum()"
   ]
  },
  {
   "cell_type": "code",
   "execution_count": null,
   "metadata": {},
   "outputs": [],
   "source": [
    "list_of_single_column = asegurarse['Code'].tolist()"
   ]
  },
  {
   "cell_type": "code",
   "execution_count": null,
   "metadata": {},
   "outputs": [],
   "source": [
    "ultim = dfC[(dfC['Code'].isin(list_of_single_column)) & (dfC['Source'] == 'Consumption')][['Code', '2019']]\n",
    "ultim['2019'].sum()"
   ]
  },
  {
   "cell_type": "code",
   "execution_count": null,
   "metadata": {},
   "outputs": [],
   "source": [
    "303.69541524283676 / 611.50896865"
   ]
  },
  {
   "cell_type": "code",
   "execution_count": null,
   "metadata": {},
   "outputs": [],
   "source": [
    "0.8 * 611.50896865 "
   ]
  },
  {
   "cell_type": "code",
   "execution_count": null,
   "metadata": {},
   "outputs": [],
   "source": [
    "dfC.head()"
   ]
  }
 ],
 "metadata": {
  "kernelspec": {
   "display_name": "Python 3",
   "language": "python",
   "name": "python3"
  },
  "language_info": {
   "codemirror_mode": {
    "name": "ipython",
    "version": 3
   },
   "file_extension": ".py",
   "mimetype": "text/x-python",
   "name": "python",
   "nbconvert_exporter": "python",
   "pygments_lexer": "ipython3",
   "version": "3.7.4 (tags/v3.7.4:e09359112e, Jul  8 2019, 20:34:20) [MSC v.1916 64 bit (AMD64)]"
  },
  "orig_nbformat": 4,
  "vscode": {
   "interpreter": {
    "hash": "98f313b375bd142157bd85247f9cae0a692e725b9cc4cd8be55ca840b47a019b"
   }
  }
 },
 "nbformat": 4,
 "nbformat_minor": 2
}
